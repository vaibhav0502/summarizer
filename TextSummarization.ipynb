
{
    "nbformat": 4,
    "nbformat_minor": 0,
    "metadata": {
      "colab": {
        "name": "Untitled18.ipynb",
        "provenance": []
      },
      "kernelspec": {
        "name": "python3",
        "display_name": "Python 3"
      },
      "language_info": {
        "name": "python"
      }
    },
    "cells": [
      {
        "cell_type": "markdown",
        "metadata": {
          "id": "mkGokllFNEsZ"
        },
        "source": [
          "#Text Summarization"
        ]
      },
      {
        "cell_type": "code",
        "metadata": {
          "colab": {
            "base_uri": "https://localhost:8080/"
          },
          "id": "7z2EjpFRNBoA",
          "outputId": "f8140093-41e6-4dcd-ce00-ca9d5727f529"
        },
        "source": [
          "#Importing pandas and numpy library\n",
          "import pandas as pd\n",
          "import numpy as np"
        ],
        "execution_count": null,
        "outputs": [
          {
            "output_type": "stream",
            "text": [
              "[nltk_data] Downloading package punkt to /root/nltk_data...\n",
              "[nltk_data]   Unzipping tokenizers/punkt.zip.\n"
            ],
            "name": "stdout"
          }
        ]
      },
      {
        "cell_type": "code",
        "metadata": {
          "colab": {
            "base_uri": "https://localhost:8080/",
            "height": 204
          },
          "id": "nAA6hixnNPzo",
          "outputId": "a7beaddb-9662-4fdd-e302-bc10b2729dea"
        },
        "source": [
          "#Loading the data into dataframe\n",
          "df = pd.read_csv(\"tennis.csv\")\n",
          "df.head()"
        ],
        "execution_count": 30,
        "outputs": [
          {
            "output_type": "execute_result",
            "data": {
              "text/html": [
                "<div>\n",
                "<style scoped>\n",
                "    .dataframe tbody tr th:only-of-type {\n",
                "        vertical-align: middle;\n",
                "    }\n",
                "\n",
                "    .dataframe tbody tr th {\n",
                "        vertical-align: top;\n",
                "    }\n",
                "\n",
                "    .dataframe thead th {\n",
                "        text-align: right;\n",
                "    }\n",
                "</style>\n",
                "<table border=\"1\" class=\"dataframe\">\n",
                "  <thead>\n",
                "    <tr style=\"text-align: right;\">\n",
                "      <th></th>\n",
                "      <th>Unnamed: 0</th>\n",
                "      <th>article_id</th>\n",
                "      <th>article_text</th>\n",
                "      <th>source</th>\n",
                "    </tr>\n",
                "  </thead>\n",
                "  <tbody>\n",
                "    <tr>\n",
                "      <th>0</th>\n",
                "      <td>0</td>\n",
                "      <td>1</td>\n",
                "      <td>Maria Sharapova has basically no friends as te...</td>\n",
                "      <td>https://www.tennisworldusa.org/tennis/news/Mar...</td>\n",
                "    </tr>\n",
                "    <tr>\n",
                "      <th>1</th>\n",
                "      <td>1</td>\n",
                "      <td>2</td>\n",
                "      <td>BASEL, Switzerland (AP), Roger Federer advance...</td>\n",
                "      <td>http://www.tennis.com/pro-game/2018/10/copil-s...</td>\n",
                "    </tr>\n",
                "    <tr>\n",
                "      <th>2</th>\n",
                "      <td>2</td>\n",
                "      <td>3</td>\n",
                "      <td>Roger Federer has revealed that organisers of ...</td>\n",
                "      <td>https://scroll.in/field/899938/tennis-roger-fe...</td>\n",
                "    </tr>\n",
                "    <tr>\n",
                "      <th>3</th>\n",
                "      <td>3</td>\n",
                "      <td>4</td>\n",
                "      <td>Kei Nishikori will try to end his long losing ...</td>\n",
                "      <td>http://www.tennis.com/pro-game/2018/10/nishiko...</td>\n",
                "    </tr>\n",
                "    <tr>\n",
                "      <th>4</th>\n",
                "      <td>4</td>\n",
                "      <td>5</td>\n",
                "      <td>Federer, 37, first broke through on tour over ...</td>\n",
                "      <td>https://www.express.co.uk/sport/tennis/1036101...</td>\n",
                "    </tr>\n",
                "  </tbody>\n",
                "</table>\n",
                "</div>"
              ],
              "text/plain": [
                "   Unnamed: 0  ...                                             source\n",
                "0           0  ...  https://www.tennisworldusa.org/tennis/news/Mar...\n",
                "1           1  ...  http://www.tennis.com/pro-game/2018/10/copil-s...\n",
                "2           2  ...  https://scroll.in/field/899938/tennis-roger-fe...\n",
                "3           3  ...  http://www.tennis.com/pro-game/2018/10/nishiko...\n",
                "4           4  ...  https://www.express.co.uk/sport/tennis/1036101...\n",
                "\n",
                "[5 rows x 4 columns]"
              ]
            },
            "metadata": {
              "tags": []
            },
            "execution_count": 30
          }
        ]
      },
      {
        "cell_type": "code",
        "metadata": {
          "colab": {
            "base_uri": "https://localhost:8080/",
            "height": 171
          },
          "id": "wXYC2moyNWrM",
          "outputId": "3edd410a-0755-4016-a176-38f02461f4ff"
        },
        "source": [
          "df['article_text'][1]"
        ],
        "execution_count": 31,
        "outputs": [
          {
            "output_type": "execute_result",
            "data": {
              "application/vnd.google.colaboratory.intrinsic+json": {
                "type": "string"
              },
              "text/plain": [
                "\"BASEL, Switzerland (AP), Roger Federer advanced to the 14th Swiss Indoors final of his career by beating seventh-seeded Daniil Medvedev 6-1, 6-4 on Saturday. Seeking a ninth title at his hometown event, and a 99th overall, Federer will play 93th-ranked Marius Copil on Sunday. Federer dominated the 20th-ranked Medvedev and had his first match-point chance to break serve again at 5-1. He then dropped his serve to love, and let another match point slip in Medvedev's next service game by netting a backhand. He clinched on his fourth chance when Medvedev netted from the baseline. Copil upset expectations of a Federer final against Alexander Zverev in a 6-3, 6-7 (6), 6-4 win over the fifth-ranked German in the earlier semifinal. The Romanian aims for a first title after arriving at Basel without a career win over a top-10 opponent. Copil has two after also beating No. 6 Marin Cilic in the second round. Copil fired 26 aces past Zverev and never dropped serve, clinching after 2 1/2 hours with a forehand volley winner to break Zverev for the second time in the semifinal. He came through two rounds of qualifying last weekend to reach the Basel main draw, including beating Zverev's older brother, Mischa. Federer had an easier time than in his only previous match against Medvedev, a three-setter at Shanghai two weeks ago.\""
              ]
            },
            "metadata": {
              "tags": []
            },
            "execution_count": 31
          }
        ]
      },
      {
        "cell_type": "code",
        "metadata": {
          "id": "rO4lQFLmODk7",
          "colab": {
            "base_uri": "https://localhost:8080/"
          },
          "outputId": "e9031231-319f-48d9-a7b4-60c59f5adde5"
        },
        "source": [
          "#importing NLTK library\n",
          "import nltk\n",
          "from nltk.corpus import stopwords\n",
          "from nltk.tokenize import sent_tokenize\n",
          "nltk.download('stopwords')\n",
          "nltk.download('punkt')\n",
          "import re"
        ],
        "execution_count": 52,
        "outputs": [
          {
            "output_type": "stream",
            "text": [
              "[nltk_data] Downloading package stopwords to /root/nltk_data...\n",
              "[nltk_data]   Package stopwords is already up-to-date!\n",
              "[nltk_data] Downloading package punkt to /root/nltk_data...\n",
              "[nltk_data]   Package punkt is already up-to-date!\n"
            ],
            "name": "stdout"
          }
        ]
      },
      {
        "cell_type": "code",
        "metadata": {
          "colab": {
            "base_uri": "https://localhost:8080/"
          },
          "id": "RwCbY8xhjt36",
          "outputId": "091988dc-8f76-4990-aab4-9a565b7ecaa4"
        },
        "source": [
          "#Return a sentence-tokenized copy of *text*, using NLTK's recommended sentence tokenizer(currently .PunktSentenceTokenizerfor the specified language).\n",
          "sentence = []\n",
          "for i in df['article_text']:\n",
          "    sentence.append(sent_tokenize(i))\n",
          "sentences = [y for x in sentence for y in x]\n",
          "#Printing sentences[0]\n",
          "print(sentences[0])"
        ],
        "execution_count": 39,
        "outputs": [
          {
            "output_type": "stream",
            "text": [
              "Maria Sharapova has basically no friends as tennis players on the WTA Tour.\n"
            ],
            "name": "stdout"
          }
        ]
      },
      {
        "cell_type": "code",
        "metadata": {
          "id": "306_kGhaOfC3"
        },
        "source": [
          "#loading a txt file into wordembedded as dictionary\n",
          "wordembedd = {}\n",
          "f = open('glove.6B.100d.txt', encoding='utf-8')\n",
          "for line in f:\n",
          "    values = line.split()\n",
          "    word = values[0]\n",
          "    coefs = np.asarray(values[1:], dtype='float32')\n",
          "    wordembedd[word] = coefs\n",
          "f.close()"
        ],
        "execution_count": 40,
        "outputs": []
      },
      {
        "cell_type": "code",
        "metadata": {
          "colab": {
            "base_uri": "https://localhost:8080/"
          },
          "id": "Fw410MgomXpq",
          "outputId": "b5b40542-e06e-404d-b626-dc0b86a1afd8"
        },
        "source": [
          "#Now we are having the whole data from glove.6B.100d.txt in wordembedd object\n",
          "wordembedd"
        ]
        }]}
  
             
